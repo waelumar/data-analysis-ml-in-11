{
 "cells": [
  {
   "cell_type": "code",
   "execution_count": 1,
   "id": "ce129402-c011-4f02-8d68-0085132cac55",
   "metadata": {},
   "outputs": [],
   "source": [
    "#importing essential libraries\n",
    "import pandas as pd\n",
    "import numpy as np\n",
    "import matplotlib.pyplot as plt\n",
    "import seaborn as sns"
   ]
  },
  {
   "cell_type": "code",
   "execution_count": 4,
   "id": "ec42f04d-b931-4358-8d40-ae1cac524221",
   "metadata": {},
   "outputs": [],
   "source": [
    "# Import necessary modules from scikit-learn\n",
    "from sklearn.model_selection import train_test_split  # Module for splitting data into training and testing sets\n",
    "from sklearn.tree import DecisionTreeClassifier  # Decision Tree classifier model\n",
    "from sklearn.linear_model import LinearRegression  # Linear Regression model\n",
    "from sklearn.naive_bayes import BernoulliNB  # Bernoulli Naive Bayes classifier model\n",
    "from sklearn.neighbors import KNeighborsClassifier  # K-Nearest Neighbors classifier model\n",
    "from sklearn.linear_model import PassiveAggressiveClassifier  # Passive Aggressive classifier model\n",
    "from sklearn.metrics import classification_report  # Module for generating classification report"
   ]
  },
  {
   "cell_type": "code",
   "execution_count": 22,
   "id": "6dd36ee0-f66a-4a45-b865-3f5c063f69be",
   "metadata": {},
   "outputs": [
    {
     "data": {
      "text/html": [
       "<div>\n",
       "<style scoped>\n",
       "    .dataframe tbody tr th:only-of-type {\n",
       "        vertical-align: middle;\n",
       "    }\n",
       "\n",
       "    .dataframe tbody tr th {\n",
       "        vertical-align: top;\n",
       "    }\n",
       "\n",
       "    .dataframe thead th {\n",
       "        text-align: right;\n",
       "    }\n",
       "</style>\n",
       "<table border=\"1\" class=\"dataframe\">\n",
       "  <thead>\n",
       "    <tr style=\"text-align: right;\">\n",
       "      <th></th>\n",
       "      <th>User ID</th>\n",
       "      <th>Gender</th>\n",
       "      <th>Age</th>\n",
       "      <th>EstimatedSalary</th>\n",
       "      <th>Purchased</th>\n",
       "    </tr>\n",
       "  </thead>\n",
       "  <tbody>\n",
       "    <tr>\n",
       "      <th>0</th>\n",
       "      <td>15624510</td>\n",
       "      <td>Male</td>\n",
       "      <td>19</td>\n",
       "      <td>19000</td>\n",
       "      <td>0</td>\n",
       "    </tr>\n",
       "    <tr>\n",
       "      <th>1</th>\n",
       "      <td>15810944</td>\n",
       "      <td>Male</td>\n",
       "      <td>35</td>\n",
       "      <td>20000</td>\n",
       "      <td>0</td>\n",
       "    </tr>\n",
       "    <tr>\n",
       "      <th>2</th>\n",
       "      <td>15668575</td>\n",
       "      <td>Female</td>\n",
       "      <td>26</td>\n",
       "      <td>43000</td>\n",
       "      <td>0</td>\n",
       "    </tr>\n",
       "    <tr>\n",
       "      <th>3</th>\n",
       "      <td>15603246</td>\n",
       "      <td>Female</td>\n",
       "      <td>27</td>\n",
       "      <td>57000</td>\n",
       "      <td>0</td>\n",
       "    </tr>\n",
       "    <tr>\n",
       "      <th>4</th>\n",
       "      <td>15804002</td>\n",
       "      <td>Male</td>\n",
       "      <td>19</td>\n",
       "      <td>76000</td>\n",
       "      <td>0</td>\n",
       "    </tr>\n",
       "  </tbody>\n",
       "</table>\n",
       "</div>"
      ],
      "text/plain": [
       "    User ID  Gender  Age  EstimatedSalary  Purchased\n",
       "0  15624510    Male   19            19000          0\n",
       "1  15810944    Male   35            20000          0\n",
       "2  15668575  Female   26            43000          0\n",
       "3  15603246  Female   27            57000          0\n",
       "4  15804002    Male   19            76000          0"
      ]
     },
     "execution_count": 22,
     "metadata": {},
     "output_type": "execute_result"
    }
   ],
   "source": [
    "#importing of the dataset\n",
    "df=pd.read_csv('suv_data.csv')\n",
    "df.head()"
   ]
  },
  {
   "cell_type": "code",
   "execution_count": 28,
   "id": "38d27b09-0420-4c76-be85-88f95e70c38b",
   "metadata": {},
   "outputs": [
    {
     "name": "stdout",
     "output_type": "stream",
     "text": [
      "1\n"
     ]
    }
   ],
   "source": [
    "#naming the x and y of the ml model\n",
    "x=np.array(['Age','EstimatedSalary\t'])\n",
    "y=np.array(['Purchased'])"
   ]
  },
  {
   "cell_type": "code",
   "execution_count": null,
   "id": "57ed4a97-5a63-4ce7-a1a0-55903e78c116",
   "metadata": {},
   "outputs": [],
   "source": [
    "#training the model\n",
    "xtrain, xtest, ytrain, ytest = train_test_split(x, y, test_size=0.10, random_state=42)\n",
    "\n",
    "# Initializing the classifiers/models\n",
    "decisiontree = DecisionTreeClassifier()  # Decision Tree classifier\n",
    "logisticregression = LogisticRegression()  # Logistic Regression classifier\n",
    "knearestclassifier = KNeighborsClassifier()  # K-Nearest Neighbors classifier\n",
    "svm_classifier = SVC()  # Support Vector Machine classifier\n",
    "bernoulli_naiveBayes = BernoulliNB()  # Bernoulli Naive Bayes classifier\n",
    "passiveAggressive = PassiveAggressiveClassifier()  # Passive Aggressive classifier\n",
    "\n",
    "\n",
    "# Training the classifiers using the training data\n",
    "knearestclassifier.fit(xtrain, ytrain)\n",
    "decisiontree.fit(xtrain, ytrain)\n",
    "logisticregression.fit(xtrain, ytrain)\n",
    "passiveAggressive.fit(xtrain, ytrain)\n",
    "\n",
    "#classifying all the data and storing it in a data frame\n",
    "data1 = {\"Classification Algorithms\": [\"KNN Classifier\", \"Decision Tree Classifier\", \n",
    "                                       \"Logistic Regression\", \"Passive Aggressive Classifier\"],\n",
    "      \"Score\": [knearestclassifier.score(x,y), decisiontree.score(x, y), \n",
    "                logisticregression.score(x, y), passiveAggressive.score(x,y) ]}\n",
    "score = pd.DataFrame(data1)\n",
    "#final output\n",
    "score"
   ]
  },
  {
   "cell_type": "code",
   "execution_count": null,
   "id": "a2354494-188d-4d19-95dd-64e7d99ca956",
   "metadata": {},
   "outputs": [],
   "source": [
    "\n",
    "#summary of full code\n",
    "\n",
    "import pandas as pd\n",
    "import numpy as np\n",
    "import matplotlib.pyplot as plt\n",
    "import seaborn as sns\n",
    "from sklearn.model_selection import train_test_split\n",
    "from sklearn.tree import DecisionTreeClassifier\n",
    "from sklearn.linear_model import LinearRegression\n",
    "from sklearn.naive_bayes import BernoulliNB\n",
    "from sklearn.neighbors import KNeighborsClassifier\n",
    "from sklearn.linear_model import PassiveAggressiveClassifier\n",
    "from sklearn.metrics import classification_report\n",
    "\n",
    "df=pd.read_csv('suv_data.csv')\n",
    "df.head()\n",
    "\n",
    "x=np.array(['Age','EstimatedSalary'])\n",
    "y=np.array(['Purchased'])\n",
    "\n",
    "xtrain, xtest, ytrain, ytest = train_test_split(x, y, test_size=0.10, random_state=42)\n",
    "\n",
    "decisiontree = DecisionTreeClassifier()\n",
    "logisticregression = LogisticRegression()\n",
    "knearestclassifier = KNeighborsClassifier()\n",
    "svm_classifier = SVC()\n",
    "bernoulli_naiveBayes = BernoulliNB()\n",
    "passiveAggressive = PassiveAggressiveClassifier()\n",
    "\n",
    "knearestclassifier.fit(xtrain, ytrain)\n",
    "decisiontree.fit(xtrain, ytrain)\n",
    "logisticregression.fit(xtrain, ytrain)\n",
    "passiveAggressive.fit(xtrain, ytrain)\n",
    "\n",
    "data1 = {\"Classification Algorithms\": [\"KNN Classifier\", \"Decision Tree Classifier\", \n",
    "                                       \"Logistic Regression\", \"Passive Aggressive Classifier\"],\n",
    "      \"Score\": [knearestclassifier.score(x,y), decisiontree.score(x, y), \n",
    "                logisticregression.score(x, y), passiveAggressive.score(x,y) ]}\n",
    "score = pd.DataFrame(data1)\n",
    "score\n"
   ]
  }
 ],
 "metadata": {
  "kernelspec": {
   "display_name": "Python 3 (ipykernel)",
   "language": "python",
   "name": "python3"
  },
  "language_info": {
   "codemirror_mode": {
    "name": "ipython",
    "version": 3
   },
   "file_extension": ".py",
   "mimetype": "text/x-python",
   "name": "python",
   "nbconvert_exporter": "python",
   "pygments_lexer": "ipython3",
   "version": "3.12.1"
  }
 },
 "nbformat": 4,
 "nbformat_minor": 5
}
