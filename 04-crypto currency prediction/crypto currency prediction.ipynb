{
 "cells": [
  {
   "cell_type": "code",
   "execution_count": null,
   "id": "9baff938-183c-4bab-82bc-317bb5d9aa8b",
   "metadata": {},
   "outputs": [],
   "source": [
    "#importing essential libraries\n",
    "import pandas as pd\n",
    "import numpy as np\n",
    "import matplotlib.pyplot as plt\n",
    "import seaborn as sns"
   ]
  },
  {
   "cell_type": "code",
   "execution_count": null,
   "id": "24c1d1dd-4f02-4f8c-8882-83361475d6f4",
   "metadata": {},
   "outputs": [],
   "source": [
    "# Importing necessary libraries for the project\n",
    "import plotly.graph_objects as go  # Library for creating interactive plots\n",
    "import yfinance as yf  # Library for downloading financial data\n",
    "import datetime  # Library for manipulating dates and times\n",
    "from datetime import date, timedelta  # Importing specific classes from datetime for date manipulation\n",
    "\n",
    "# Getting today's date\n",
    "today = date.today()\n"
   ]
  },
  {
   "cell_type": "code",
   "execution_count": null,
   "id": "64cbc17f-d4bf-4180-8e02-34ad4b217b62",
   "metadata": {},
   "outputs": [],
   "source": [
    "# Get today's date and format it as 'YYYY-MM-DD' for use with yfinance\n",
    "d1 = today.strftime('%Y-%m-%d')\n",
    "end_date = d1  # Assign formatted date to end_date\n",
    "\n",
    "# Calculate the date 730 days (2 years) before today\n",
    "d2 = date.today() - timedelta(days=730)\n",
    "\n",
    "# Format the calculated date as 'YYYY-MM-DD' for use with yfinance\n",
    "d2 = d2.strftime('%Y-%m-%d')\n",
    "start_date = d2  # Assign formatted date to start_date\n"
   ]
  },
  {
   "cell_type": "code",
   "execution_count": null,
   "id": "698a6cb0-38a8-4c32-8cdb-02d6119fd37f",
   "metadata": {},
   "outputs": [],
   "source": [
    "# Download historical data for Bitcoin (BTC-USD) from yfinance\n",
    "data = yf.download('BTC-USD',\n",
    "                   start=start_date,  # Start date for the data\n",
    "                   end=end_date,      # End date for the data\n",
    "                   progress=False)    # Disable progress bar\n",
    "\n",
    "# Print the downloaded data\n",
    "print(data)\n"
   ]
  },
  {
   "cell_type": "code",
   "execution_count": null,
   "id": "7fae0f7a-8391-4ea2-b4e2-cabd58bd74e6",
   "metadata": {},
   "outputs": [],
   "source": [
    "# Add a 'Date' column to the DataFrame and set it as the index\n",
    "data['Date'] = data.index\n",
    "\n",
    "# Reorder the columns to have 'Date' as the first column\n",
    "data = data[[\"Date\", \"Open\", \"High\", \"Low\", \"Close\", \"Adj Close\", \"Volume\"]]\n",
    "\n",
    "# Reset the index of the DataFrame and drop the old index\n",
    "data.reset_index(drop=True, inplace=True)\n",
    "\n",
    "# Display the first few rows of the modified DataFrame\n",
    "data.head()\n"
   ]
  },
  {
   "cell_type": "code",
   "execution_count": null,
   "id": "eb4f7730-96b3-48f7-b732-47ffe099c335",
   "metadata": {},
   "outputs": [],
   "source": [
    "#the total rows and cols of the dataset\n",
    "data.shape"
   ]
  },
  {
   "cell_type": "code",
   "execution_count": null,
   "id": "dbbc8548-0325-4881-9c18-f0b03415f8d5",
   "metadata": {},
   "outputs": [],
   "source": [
    "#plotting a graph using the plotly graph object library to analyse the data\n",
    "fig = go.Figure(data=[go.Candlestick(\n",
    "    x=data['Date'],\n",
    "    open=data['Open'],\n",
    "    high=data['High'],\n",
    "    low=data['Low'],\n",
    "    close=data['Close']\n",
    ")])\n",
    "\n",
    "fig.update_layout(title = \"Bitcoin Price Analysis\", \n",
    "                     xaxis_rangeslider_visible=False)\n",
    "fig.show()"
   ]
  },
  {
   "cell_type": "code",
   "execution_count": null,
   "id": "121d9b2f-82f7-4a68-a2b4-d231b07ebfc0",
   "metadata": {},
   "outputs": [],
   "source": [
    "#finding the corellation of the data\n",
    "cor=data.corr()\n",
    "#finding the corelation of the close column\n",
    "print(cor['Close'].sort_values(ascending=False))"
   ]
  },
  {
   "cell_type": "code",
   "execution_count": null,
   "id": "cd1f9bb6-9f92-4122-996a-cf4641793b8f",
   "metadata": {},
   "outputs": [],
   "source": [
    "#for predicting the currency wwe will be using the time series algorithm which is an pretty popular algorithm used to predict financial datasets\n",
    "#installing \n",
    "!pip install autots"
   ]
  },
  {
   "cell_type": "code",
   "execution_count": null,
   "id": "0c134e77-d637-4438-b4b1-d6b5e01b92fd",
   "metadata": {},
   "outputs": [],
   "source": [
    "# Import the AutoTS library\n",
    "from autots import AutoTS\n",
    "\n",
    "# Initialize the AutoTS model with specific parameters\n",
    "model = AutoTS(forecast_length=30, frequency='infer', ensemble='simple')\n",
    "\n",
    "# Fit the AutoTS model to the data\n",
    "model = model.fit(data, date_col='Date', value_col='Close')\n",
    "\n",
    "# Make predictions using the fitted model\n",
    "prediction = model.predict()\n",
    "\n",
    "# Extract the forecast from the prediction object\n",
    "forecast = prediction.forecast\n",
    "\n",
    "# Print the forecast\n",
    "print(forecast)\n"
   ]
  },
  {
   "cell_type": "code",
   "execution_count": null,
   "id": "3e28feea-6b18-48d0-8459-28d0339e88d3",
   "metadata": {},
   "outputs": [],
   "source": [
    "#results\n",
    "print(forecast)"
   ]
  },
  {
   "cell_type": "code",
   "execution_count": null,
   "id": "7e2e7678-9ca2-4522-9533-1667c520c827",
   "metadata": {},
   "outputs": [],
   "source": [
    "import pandas as pd\n",
    "import numpy as np\n",
    "import matplotlib.pyplot as plt\n",
    "import seaborn as sns\n",
    "import plotly.graph_objects as go\n",
    "import yfinance as yf\n",
    "import datetime\n",
    "from datetime import date, timedelta\n",
    "\n",
    "today = date.today()\n",
    "\n",
    "d1 = today.strftime('%Y-%m-%d')\n",
    "end_date = d1\n",
    "\n",
    "d2 = date.today() - timedelta(days=730)\n",
    "d2 = d2.strftime('%Y-%m-%d')\n",
    "start_date = d2\n",
    "\n",
    "data = yf.download('BTC-USD',\n",
    "                   start=start_date,\n",
    "                   end=end_date,\n",
    "                   progress=False)\n",
    "\n",
    "print(data)\n",
    "\n",
    "data['Date'] = data.index\n",
    "data = data[[\"Date\", \"Open\", \"High\", \"Low\", \"Close\", \"Adj Close\", \"Volume\"]]\n",
    "data.reset_index(drop=True, inplace=True)\n",
    "\n",
    "data.head()\n",
    "\n",
    "data.shape\n",
    "\n",
    "fig = go.Figure(data=[go.Candlestick(\n",
    "    x=data['Date'],\n",
    "    open=data['Open'],\n",
    "    high=data['High'],\n",
    "    low=data['Low'],\n",
    "    close=data['Close']\n",
    ")])\n",
    "\n",
    "fig.update_layout(title=\"Bitcoin Price Analysis\", xaxis_rangeslider_visible=False)\n",
    "fig.show()\n",
    "\n",
    "cor = data.corr()\n",
    "print(cor['Close'].sort_values(ascending=False))\n",
    "\n",
    "!pip install autots\n",
    "from autots import AutoTS\n",
    "\n",
    "model = AutoTS(forecast_length=30, frequency='infer', ensemble='simple')\n",
    "model = model.fit(data, date_col='Date', value_col='Close')\n",
    "prediction = model.predict()\n",
    "forecast = prediction.forecast\n",
    "print(forecast)\n"
   ]
  }
 ],
 "metadata": {
  "kernelspec": {
   "display_name": "Python 3 (ipykernel)",
   "language": "python",
   "name": "python3"
  },
  "language_info": {
   "codemirror_mode": {
    "name": "ipython",
    "version": 3
   },
   "file_extension": ".py",
   "mimetype": "text/x-python",
   "name": "python",
   "nbconvert_exporter": "python",
   "pygments_lexer": "ipython3",
   "version": "3.12.1"
  }
 },
 "nbformat": 4,
 "nbformat_minor": 5
}
