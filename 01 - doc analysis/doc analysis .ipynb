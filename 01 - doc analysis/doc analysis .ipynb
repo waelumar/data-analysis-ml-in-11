{
 "cells": [
  {
   "cell_type": "code",
   "execution_count": null,
   "id": "c22b69d7-a06f-456c-95b7-f8b9156d7954",
   "metadata": {},
   "outputs": [],
   "source": [
    "#notice\n",
    "#hey guys this just an refreshment of how u could import files to the code and perfom some basic operations with the file which will be very much needed in future btojects\n",
    "\n",
    "#import pandas as pd to read docs\n",
    "import pandas as pd\n",
    "\n",
    "#perform pd.read_filetype to open an file\n",
    "file=pd.read_csv('Zomato.csv')#here u can copy the path of your file and place it in the command\n",
    "\n",
    "\n",
    "#there are multiple commands to diffrent types of fil TYPE pd.read_ an press the TAB key to input more file type\n",
    "xl=pd.read_excel()\n",
    "csv=pd.read_csv()\n",
    "xml=pd.read_xml()\n",
    "\n",
    "\n",
    "# to open the first four data from the doc use:(file containing variable.head())\n",
    "file.head()\n",
    "\n",
    "\n",
    "#use filevariable.info(() for info on your file\n",
    "file.info()\n",
    "\n",
    "\n",
    "#use filevariable.describe() to to find out the central tendancy of ur doc\n",
    "file.describe()\n",
    "\n",
    "\n",
    "#use filevariable.shape to find out the find therows and cols \n",
    "file.shape\n",
    "#file.columns() to find out the number of cols in the doc \n",
    "file.columns\n",
    "\n",
    "\n",
    "#u can use the iloc command to find an particular col\n",
    "print(file.iloc[20])\n",
    "\n",
    "\n",
    "#find the min and max value use the filevariable.min()/max()\n",
    "file.min()\n",
    "file.max()\n",
    "\n",
    "\n",
    "#find the no?of null values using is null() fun\n",
    "file.isnull()\n",
    "\n",
    "\n",
    "#use filevariable.dropna() to drop all null values\n",
    "file.dropna()"
   ]
  }
 ],
 "metadata": {
  "kernelspec": {
   "display_name": "Python 3 (ipykernel)",
   "language": "python",
   "name": "python3"
  },
  "language_info": {
   "codemirror_mode": {
    "name": "ipython",
    "version": 3
   },
   "file_extension": ".py",
   "mimetype": "text/x-python",
   "name": "python",
   "nbconvert_exporter": "python",
   "pygments_lexer": "ipython3",
   "version": "3.12.1"
  }
 },
 "nbformat": 4,
 "nbformat_minor": 5
}
