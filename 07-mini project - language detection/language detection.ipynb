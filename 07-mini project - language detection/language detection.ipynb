{
 "cells": [
  {
   "cell_type": "code",
   "execution_count": 2,
   "id": "c9ee874d-7b2f-42e0-9a2c-f431b76f962b",
   "metadata": {},
   "outputs": [
    {
     "name": "stdout",
     "output_type": "stream",
     "text": [
      "Requirement already satisfied: langdetect in c:\\users\\wael raed\\appdata\\local\\programs\\python\\python312\\lib\\site-packages (1.0.9)\n",
      "Requirement already satisfied: six in c:\\users\\wael raed\\appdata\\local\\programs\\python\\python312\\lib\\site-packages (from langdetect) (1.16.0)\n"
     ]
    }
   ],
   "source": [
    "# Install the langdetect library\n",
    "!pip install langdetect"
   ]
  },
  {
   "cell_type": "code",
   "execution_count": 4,
   "id": "157b421a-a2be-4a5b-9b2d-84a5a0513854",
   "metadata": {},
   "outputs": [
    {
     "name": "stdin",
     "output_type": "stream",
     "text": [
      "Enter any text in any language:  தமிழ் (Tamil language) தமிழர்களினதும் தமிழ் பேசும்\n"
     ]
    },
    {
     "name": "stdout",
     "output_type": "stream",
     "text": [
      "ta\n"
     ]
    }
   ],
   "source": [
    "# Import the detect function from the langdetect library\n",
    "from langdetect import detect\n",
    "\n",
    "# Prompt the user to enter any text in any language\n",
    "text = input(\"Enter any text in any language: \")\n",
    "\n",
    "# Detect the language of the entered text using the detect function\n",
    "# The detect function returns a two-letter ISO 639-1 language code\n",
    "detected_language = detect(text)\n",
    "\n",
    "# Print the detected language code\n",
    "print(detected_language)\n"
   ]
  }
 ],
 "metadata": {
  "kernelspec": {
   "display_name": "Python 3 (ipykernel)",
   "language": "python",
   "name": "python3"
  },
  "language_info": {
   "codemirror_mode": {
    "name": "ipython",
    "version": 3
   },
   "file_extension": ".py",
   "mimetype": "text/x-python",
   "name": "python",
   "nbconvert_exporter": "python",
   "pygments_lexer": "ipython3",
   "version": "3.12.1"
  }
 },
 "nbformat": 4,
 "nbformat_minor": 5
}
