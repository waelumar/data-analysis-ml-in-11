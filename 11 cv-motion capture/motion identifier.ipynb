{
 "cells": [
  {
   "cell_type": "code",
   "execution_count": null,
   "id": "afdbf93b-e294-4c0c-80bf-f9a953049bdf",
   "metadata": {},
   "outputs": [],
   "source": [
    "import cv2\n",
    "import numpy as np\n",
    "import matplotlib.pyplot as plt\n",
    "\n",
    "def motiondetection():\n",
    "    # Open the video file\n",
    "    cap = cv2.VideoCapture('motion.mp4')\n",
    "    # Read the first frame\n",
    "    ret, frame1 = cap.read()\n",
    "    # Read the second frame\n",
    "    ret, frame2 = cap.read()\n",
    "\n",
    "    while cap.isOpened():\n",
    "        # Calculate the absolute difference between the two frames\n",
    "        diff = cv2.absdiff(frame1, frame2)\n",
    "        # Convert the difference image to grayscale\n",
    "        gray = cv2.cvtColor(diff, cv2.COLOR_BGR2GRAY)\n",
    "        # Apply Gaussian blur to the grayscale image\n",
    "        blur = cv2.GaussianBlur(gray, (5, 5), 0)\n",
    "        # Threshold the blurred image to get binary image\n",
    "        _, thresh = cv2.threshold(blur, 20, 255, cv2.THRESH_BINARY)\n",
    "        # Dilate the thresholded image to fill gaps\n",
    "        dilate = cv2.dilate(thresh, None, iterations=3)\n",
    "        # Find contours in the dilated image\n",
    "        contours, _ = cv2.findContours(dilate, cv2.RETR_TREE, cv2.CHAIN_APPROX_SIMPLE)\n",
    "\n",
    "        # Iterate through the contours\n",
    "        for contour in contours:\n",
    "            # Get bounding box coordinates of the contour\n",
    "            (x, y, w, h) = cv2.boundingRect(contour)\n",
    "            # If contour area is less than 900, skip\n",
    "            if cv2.contourArea(contour) < 900:\n",
    "                continue\n",
    "            # Draw a rectangle around the detected motion\n",
    "            cv2.rectangle(frame1, (x, y), (x+w, y+h), (0, 255, 0), 2)\n",
    "           \n",
    "        # Display the frame with motion detection\n",
    "        cv2.imshow('video', frame1)\n",
    "        # Update frame1 with frame2\n",
    "        frame1 = frame2\n",
    "        # Read the next frame\n",
    "        ret, frame2 = cap.read()\n",
    "\n",
    "        # Break the loop if 'Esc' key is pressed\n",
    "        if cv2.waitKey(50) == 27:\n",
    "            break\n",
    "\n",
    "    # Release the video capture object and close all OpenCV windows\n",
    "    cap.release()\n",
    "    cv2.destroyAllWindows()\n",
    "\n",
    "if __name__ == \"__main__\":\n",
    "    motiondetection()\n"
   ]
  }
 ],
 "metadata": {
  "kernelspec": {
   "display_name": "Python 3 (ipykernel)",
   "language": "python",
   "name": "python3"
  },
  "language_info": {
   "codemirror_mode": {
    "name": "ipython",
    "version": 3
   },
   "file_extension": ".py",
   "mimetype": "text/x-python",
   "name": "python",
   "nbconvert_exporter": "python",
   "pygments_lexer": "ipython3",
   "version": "3.12.1"
  }
 },
 "nbformat": 4,
 "nbformat_minor": 5
}
