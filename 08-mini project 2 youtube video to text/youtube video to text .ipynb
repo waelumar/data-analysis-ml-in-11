{
 "cells": [
  {
   "cell_type": "code",
   "execution_count": null,
   "id": "7ce9dcad-a4ae-4995-9403-0b1c11281c24",
   "metadata": {},
   "outputs": [],
   "source": [
    "from pytube import YouTube\n",
    "from transformers import pipeline\n",
    "from IPython.display import Audio\n",
    "\n",
    "# Define the YouTube video URL\n",
    "yts = 'https://youtu.be/CY8bElsW4CQ'\n",
    "\n",
    "# Create a YouTube object\n",
    "yt = YouTube(yts)\n",
    "\n",
    "# Print video details\n",
    "print(f'Title: {yt.title}')\n",
    "print(f'Views: {yt.views}')\n",
    "print(f'Length: {yt.length} seconds')\n",
    "\n",
    "# Download the highest resolution video\n",
    "ys = yt.streams.get_highest_resolution()\n",
    "ys.download()\n",
    "\n",
    "# Download the audio stream\n",
    "audio_stream = yt.streams.filter(only_audio=True, file_extension='mp4').first()\n",
    "audio_stream.download(filename='ytaudio.mp4')\n",
    "\n",
    "# Play the audio\n",
    "display(Audio('ytaudio.mp4', autoplay=True))\n",
    "\n",
    "# Load the model for automatic speech recognition\n",
    "asr_pipeline = pipeline('automatic-speech-recognition', model='openai/whisper-medium')\n",
    "\n",
    "# Transcribe the audio file\n",
    "transcription = asr_pipeline('ytaudio.mp4')\n",
    "\n",
    "# Print the transcription\n",
    "print(transcription['text'])\n"
   ]
  }
 ],
 "metadata": {
  "kernelspec": {
   "display_name": "Python 3 (ipykernel)",
   "language": "python",
   "name": "python3"
  },
  "language_info": {
   "codemirror_mode": {
    "name": "ipython",
    "version": 3
   },
   "file_extension": ".py",
   "mimetype": "text/x-python",
   "name": "python",
   "nbconvert_exporter": "python",
   "pygments_lexer": "ipython3",
   "version": "3.12.1"
  }
 },
 "nbformat": 4,
 "nbformat_minor": 5
}
