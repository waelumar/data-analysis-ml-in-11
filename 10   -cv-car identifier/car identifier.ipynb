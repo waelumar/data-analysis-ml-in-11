{
 "cells": [
  {
   "cell_type": "code",
   "execution_count": null,
   "id": "82ceb7f2-682f-4e03-bdb9-59f03752a7e2",
   "metadata": {},
   "outputs": [],
   "source": [
    "import cv2\n",
    "\n",
    "# XML file containing the trained car detection cascade\n",
    "cascade_src = 'cars.xml'#cascade to start the model\n",
    "# Video file to be processed\n",
    "video = #add the video path here ''\n",
    "\n",
    "def detectCars(filename):\n",
    "    # Load the cascade classifier for car detection\n",
    "    cascade = cv2.CascadeClassifier(cascade_src)\n",
    "    # Open the video file\n",
    "    cap = cv2.VideoCapture(filename)  # Pass filename to VideoCapture\n",
    "\n",
    "    # Check if the video file was opened successfully\n",
    "    if not cap.isOpened():\n",
    "        print(\"Error: Unable to open video file.\")\n",
    "        return\n",
    "\n",
    "    # Start processing frames from the video\n",
    "    while True:\n",
    "        # Read a frame from the video\n",
    "        ret, frame = cap.read()\n",
    "        # Break the loop if the frame reading was unsuccessful\n",
    "        if not ret:\n",
    "            break\n",
    "\n",
    "        # Resize the frame to a smaller size for faster processing\n",
    "        frame = cv2.resize(frame, (600, 400))\n",
    "        # Convert the frame to grayscale\n",
    "        gray = cv2.cvtColor(frame, cv2.COLOR_BGR2GRAY)\n",
    "\n",
    "        # Detect cars in the grayscale frame using the cascade classifier\n",
    "        cars = cascade.detectMultiScale(gray, scaleFactor=1.3, minNeighbors=3)\n",
    "\n",
    "        # Draw rectangles around the detected cars\n",
    "        for (x, y, w, h) in cars:\n",
    "            cv2.rectangle(frame, (x, y), (x+w, y+h), (0, 0, 255), 2)\n",
    "\n",
    "        # Display the frame with detected cars\n",
    "        cv2.imshow('results', frame)\n",
    "        # Break the loop if the 'q' key is pressed\n",
    "        if cv2.waitKey(1) == ord('q'):\n",
    "            break\n",
    "\n",
    "    # Release the video capture object and close all OpenCV windows\n",
    "    cap.release()\n",
    "    cv2.destroyAllWindows()\n",
    "\n",
    "# Call the detectCars function with the specified video file\n",
    "detectCars(video)"
   ]
  }
 ],
 "metadata": {
  "kernelspec": {
   "display_name": "Python 3 (ipykernel)",
   "language": "python",
   "name": "python3"
  },
  "language_info": {
   "codemirror_mode": {
    "name": "ipython",
    "version": 3
   },
   "file_extension": ".py",
   "mimetype": "text/x-python",
   "name": "python",
   "nbconvert_exporter": "python",
   "pygments_lexer": "ipython3",
   "version": "3.12.1"
  }
 },
 "nbformat": 4,
 "nbformat_minor": 5
}
